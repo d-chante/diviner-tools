{
 "cells": [
  {
   "cell_type": "markdown",
   "id": "998fdc35-4918-45de-a3a3-0f6997cadfa2",
   "metadata": {},
   "source": [
    "# Find URLs\n",
    "\n",
    "We will extract the URLs for the zip files which contain tab files that contain the RDR LVL1 tables. This can be a somewhat slow process, so we will do this once and then save the urls to a text file. Skip this step if the ZIP_URLS_FILE already exists and has been populated. We expect 717,509 URLs.\n",
    "\n",
    "Each year takes approximately 30-45 seconds, so total time should be around 5-10 minutes."
   ]
  },
  {
   "cell_type": "markdown",
   "id": "744e32b8-78e0-4b47-bcd3-8fa26c89030c",
   "metadata": {},
   "source": [
    "#### Import Required Libraries"
   ]
  },
  {
   "cell_type": "code",
   "execution_count": null,
   "id": "8a82859b-5a57-4f56-b6de-f3e7c2ca3b5b",
   "metadata": {},
   "outputs": [],
   "source": [
    "from diviner_tools import DivinerTools"
   ]
  },
  {
   "cell_type": "markdown",
   "id": "01881148-caaf-4da6-8434-9d8d613b07fd",
   "metadata": {},
   "source": [
    "#### Constants"
   ]
  },
  {
   "cell_type": "code",
   "execution_count": null,
   "id": "d7fcf3c9-f22d-4328-8540-8912fcc4e797",
   "metadata": {},
   "outputs": [],
   "source": [
    "# Pathway to config file\n",
    "CFG_FILEPATH = \"/Notebooks/Moseley/diviner-tools/support/config/cfg.yaml\"\n",
    "\n",
    "# Pathway to pre-collected zip file URLs list\n",
    "ZIP_FILEPATH = \"/esthar/diviner_data/txt_files/zip_urls.txt\""
   ]
  },
  {
   "cell_type": "markdown",
   "id": "fb1ed3d8-ce6b-483b-a7e4-ffcd5ef3ea35",
   "metadata": {},
   "source": [
    "#### Init DivinerTools"
   ]
  },
  {
   "cell_type": "code",
   "execution_count": null,
   "id": "cf21aa86-9bf3-437e-9ae7-b69b5bb7a0e6",
   "metadata": {},
   "outputs": [],
   "source": [
    "dt = DivinerTools(CFG_FILEPATH)"
   ]
  },
  {
   "cell_type": "markdown",
   "id": "edf7877f-0f7b-4713-8008-f1d58cd7b5f6",
   "metadata": {},
   "source": [
    "#### Extract Zip URLs"
   ]
  },
  {
   "cell_type": "code",
   "execution_count": null,
   "id": "1d30cc5a-6eb2-42aa-a12e-c3c4d49b3edd",
   "metadata": {},
   "outputs": [],
   "source": [
    "zip_urls = dt.find_all_zip_urls()"
   ]
  },
  {
   "cell_type": "code",
   "execution_count": null,
   "id": "f285f180-6c12-4bdc-9845-7fdd65aa7a82",
   "metadata": {},
   "outputs": [],
   "source": [
    "print(\"Found \" + repr(len(zip_urls)) + \" .zip file urls\")"
   ]
  },
  {
   "cell_type": "markdown",
   "id": "fcb622df-f986-4a33-b049-63e5c6c81295",
   "metadata": {},
   "source": [
    "#### Save URLs to File"
   ]
  },
  {
   "cell_type": "code",
   "execution_count": null,
   "id": "d614e4bd-eaa2-4cd8-9350-9bf7e3389a57",
   "metadata": {},
   "outputs": [],
   "source": [
    "append_to_file(ZIP_FILEPATH, zip_urls)"
   ]
  }
 ],
 "metadata": {
  "kernelspec": {
   "display_name": "Python 3 (ipykernel)",
   "language": "python",
   "name": "python3"
  },
  "language_info": {
   "codemirror_mode": {
    "name": "ipython",
    "version": 3
   },
   "file_extension": ".py",
   "mimetype": "text/x-python",
   "name": "python",
   "nbconvert_exporter": "python",
   "pygments_lexer": "ipython3",
   "version": "3.8.10"
  }
 },
 "nbformat": 4,
 "nbformat_minor": 5
}
