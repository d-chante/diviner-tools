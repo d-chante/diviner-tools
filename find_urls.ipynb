{
 "cells": [
  {
   "cell_type": "markdown",
   "id": "998fdc35-4918-45de-a3a3-0f6997cadfa2",
   "metadata": {},
   "source": [
    "# Find URLs\n",
    "\n",
    "We will extract the URLs for the zip files which contain tab files that contain the RDR LVL1 tables. This can be a somewhat slow process, so we will do this once and then save the urls to a text file. Skip this step if the ZIP_URLS_FILE already exists and has been populated. We expect 717,509 URLs.\n",
    "\n",
    "Each year takes approximately 30-45 seconds, so total time should be around 5-10 minutes."
   ]
  },
  {
   "cell_type": "markdown",
   "id": "744e32b8-78e0-4b47-bcd3-8fa26c89030c",
   "metadata": {},
   "source": [
    "## Import Required Libraries"
   ]
  },
  {
   "cell_type": "code",
   "execution_count": 1,
   "id": "8a82859b-5a57-4f56-b6de-f3e7c2ca3b5b",
   "metadata": {},
   "outputs": [],
   "source": [
    "from diviner_tools import DivinerTools\n",
    "import yaml"
   ]
  },
  {
   "cell_type": "markdown",
   "id": "01881148-caaf-4da6-8434-9d8d613b07fd",
   "metadata": {},
   "source": [
    "## Constants"
   ]
  },
  {
   "cell_type": "code",
   "execution_count": 2,
   "id": "d7fcf3c9-f22d-4328-8540-8912fcc4e797",
   "metadata": {},
   "outputs": [],
   "source": [
    "# Pathway to config file\n",
    "cfg_filepath = \"/Notebooks/Moseley/diviner-tools/support/config/cfg.yaml\"\n",
    "\n",
    "with open(cfg_filepath, 'r') as file:\n",
    "    cfg = yaml.safe_load(file)\n",
    "\n",
    "# Filepath to database\n",
    "DB_FILEPATH = cfg['database_filepath']\n",
    "\n",
    "# Filepath to zip list\n",
    "ZIP_FILEPATH = cfg['zip_filepath']"
   ]
  },
  {
   "cell_type": "markdown",
   "id": "edf7877f-0f7b-4713-8008-f1d58cd7b5f6",
   "metadata": {},
   "source": [
    "## Extract Zip URLs"
   ]
  },
  {
   "cell_type": "code",
   "execution_count": null,
   "id": "1d30cc5a-6eb2-42aa-a12e-c3c4d49b3edd",
   "metadata": {},
   "outputs": [],
   "source": [
    "dt = DivinerTools(DB_FILEPATH)\n",
    "\n",
    "zip_urls = dt.find_all_zip_urls()\n",
    "\n",
    "print(\"Found \" + repr(len(zip_urls)) + \" .zip file urls\")"
   ]
  },
  {
   "cell_type": "code",
   "execution_count": null,
   "id": "d614e4bd-eaa2-4cd8-9350-9bf7e3389a57",
   "metadata": {},
   "outputs": [],
   "source": [
    "# Save urls to file\n",
    "append_to_file(ZIP_FILEPATH, zip_urls)"
   ]
  },
  {
   "cell_type": "code",
   "execution_count": null,
   "id": "b73154e4-2720-418e-b1df-044bd830b3f7",
   "metadata": {},
   "outputs": [],
   "source": []
  }
 ],
 "metadata": {
  "kernelspec": {
   "display_name": "Python 3 (ipykernel)",
   "language": "python",
   "name": "python3"
  },
  "language_info": {
   "codemirror_mode": {
    "name": "ipython",
    "version": 3
   },
   "file_extension": ".py",
   "mimetype": "text/x-python",
   "name": "python",
   "nbconvert_exporter": "python",
   "pygments_lexer": "ipython3",
   "version": "3.8.10"
  }
 },
 "nbformat": 4,
 "nbformat_minor": 5
}
