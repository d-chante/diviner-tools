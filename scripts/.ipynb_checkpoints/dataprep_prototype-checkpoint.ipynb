{
 "cells": [
  {
   "cell_type": "markdown",
   "id": "3b39f662-e36b-4aad-9f07-66eb5a1780db",
   "metadata": {},
   "source": [
    "# Data Preperation\n",
    "\n",
    "1. List 48 areas of interest (AOI) - these are stored in /config/aoi.yaml\n",
    "2. Bin the surface temps at each AOI into 200mx200m grids -- get the range for each AOI?\n",
    "3. Orthographically project the coordinates\n",
    "4. Sort the points in each bin by the local lunar time to create \"profiles\" which is the temperature betewen 0:00 to 24:00 -- create profile object?\n",
    "5. Reject profiles that have a max temporal spacing less than 4 hrs\n",
    "6. Interpolate the temperature measurements of each profile onto a regular grid using gaussian process regression with matern-1.5 kernel, max legth scale of 6 hrs, and assumption of 10k STD  uncertainty, sample every 0.2 hrs to createa  1d input profile with 120 samples (24/0.2 = 120)"
   ]
  },
  {
   "cell_type": "code",
   "execution_count": 1,
   "id": "54708172-52de-407a-a387-dec79a41fc95",
   "metadata": {},
   "outputs": [],
   "source": [
    "from diviner_tools import ProfileGenerator\n",
    "\n",
    "cfg_filepath = \"/diviner-tools/diviner-tools/config/cosmocanyon_cfg.yaml\"\n",
    "aoi_filepath = \"/diviner-tools/diviner-tools/config/aoi.yaml\"\n",
    "\n",
    "pg = ProfileGenerator(cfg_filepath)\n",
    "\n",
    "aoi_list = pg.getAOINamesList(aoi_filepath)"
   ]
  },
  {
   "cell_type": "code",
   "execution_count": null,
   "id": "738d070a-78aa-400b-b11a-6a501aba016a",
   "metadata": {},
   "outputs": [],
   "source": []
  }
 ],
 "metadata": {
  "kernelspec": {
   "display_name": "Python 3 (ipykernel)",
   "language": "python",
   "name": "python3"
  },
  "language_info": {
   "codemirror_mode": {
    "name": "ipython",
    "version": 3
   },
   "file_extension": ".py",
   "mimetype": "text/x-python",
   "name": "python",
   "nbconvert_exporter": "python",
   "pygments_lexer": "ipython3",
   "version": "3.10.12"
  }
 },
 "nbformat": 4,
 "nbformat_minor": 5
}
