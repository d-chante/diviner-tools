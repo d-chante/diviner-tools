{
 "cells": [
  {
   "cell_type": "markdown",
   "id": "4ec81aa2-986f-487c-82de-d26f6a83df90",
   "metadata": {},
   "source": [
    "# Data Preprocess\n",
    "\n",
    "This Notebook instance provides a procedure to pre-process channel 7 Diviner data collected between January 2010 - September 2023 as part of a goal to replicate the work published in [Unsupervised Learning for Thermophysical Analysis on the Lunar Surface](https://iopscience.iop.org/article/10.3847/PSJ/ab9a52) by Moseley et al. (2020).\n",
    "\n",
    "A particular objective of this pre-processing notebook is to use only a standard computer (CPU, multi-threading) with augmented storage space (~5TB)."
   ]
  },
  {
   "cell_type": "markdown",
   "id": "8bc9d652-7b25-4fc4-8a04-2b6dafb0116d",
   "metadata": {},
   "source": [
    "## Import Required Libraries"
   ]
  },
  {
   "cell_type": "code",
   "execution_count": 6,
   "id": "57a07d66-c24c-45df-a95d-e54e205a74f4",
   "metadata": {},
   "outputs": [],
   "source": [
    "from diviner_tools import DivinerTools\n",
    "from datetime import datetime\n",
    "import os"
   ]
  },
  {
   "cell_type": "markdown",
   "id": "0d50a6a8-d81a-4ec8-bcc3-8bf9303eb9b5",
   "metadata": {},
   "source": [
    "## Constants"
   ]
  },
  {
   "cell_type": "code",
   "execution_count": 2,
   "id": "1236a0cb-4cfc-4d78-a339-a69405e04c77",
   "metadata": {},
   "outputs": [],
   "source": [
    "# The parent directory for relevant data products\n",
    "# Note: Esthar has 10TB\n",
    "DATA_DIR = '/esthar/diviner_data'\n",
    "\n",
    "# The name for our database object\n",
    "DB_NAME = 'diviner_data.db'\n",
    "\n",
    "# The filepath for the database\n",
    "DB_FILEPATH = os.path.join(DATA_DIR, \"database\", DB_NAME)\n",
    "\n",
    "# The filepath where tab files will be temporarily saved\n",
    "TAB_DIR = os.path.join(DATA_DIR, \"tab_files\")\n",
    "\n",
    "# Filepath for a text file with all .zip file links\n",
    "ZIP_URLS_FILE = os.path.join(DATA_DIR, \"txt_files\", \"zip_urls.txt\")\n",
    "\n",
    "# Filepath for a text file with .TAB filenames that contain target data\n",
    "USEFUL_TAB_FILE = os.path.join(DATA_DIR, \"txt_files\", \"useful_tabs.txt\")"
   ]
  },
  {
   "cell_type": "markdown",
   "id": "0ea59d42-d1dd-4e0f-ad5a-6c66d77f7569",
   "metadata": {},
   "source": [
    "## Init Diviner Tools\n",
    "\n",
    "Upon initialization of the Diviner Tools object, it will create the data directory and database if they don't already exist."
   ]
  },
  {
   "cell_type": "code",
   "execution_count": 7,
   "id": "f6a28e4c-abd5-4a9e-9d20-67218c965873",
   "metadata": {},
   "outputs": [],
   "source": [
    "dt = DivinerTools(DATA_DIR, DB_FILEPATH)"
   ]
  },
  {
   "cell_type": "markdown",
   "id": "37c7fc3e-e9d1-4d57-8d9b-b25807fe42c1",
   "metadata": {},
   "source": [
    "## Extract Zip URLs\n",
    "\n",
    "We will extract the URLs for the zip files which contain tab files that contain the RDR LVL1 tables. This can be a somewhat slow process, so we will do this once and then save the urls to a text file.\n",
    "\n",
    "Each year takes approximately 30-45 seconds, so total time should be around 5-10 minutes."
   ]
  },
  {
   "cell_type": "code",
   "execution_count": null,
   "id": "0db649c2-81be-47b6-9a9d-1cfb5cf17aca",
   "metadata": {},
   "outputs": [],
   "source": [
    "zip_urls = dt.find_all_zip_urls()\n",
    "\n",
    "print(\"Found \" + repr(len(zip_urls)) + \" .zip file urls\")"
   ]
  },
  {
   "cell_type": "code",
   "execution_count": null,
   "id": "f8b33138-5b2a-4d5e-9b4a-97393c9a7214",
   "metadata": {},
   "outputs": [],
   "source": [
    "# Save urls to file\n",
    "append_to_file(ZIP_URLS_FILE, zip_urls)"
   ]
  },
  {
   "cell_type": "markdown",
   "id": "ef546826-3ab3-4c4d-bf6f-ea1941ec4070",
   "metadata": {},
   "source": [
    "## Download, Extract, Filter, and Delete\n",
    "\n",
    "We will download zip files in small batches, extract the tab files, delete the original zip file, filter the data, write filtered data to a database, then delete the tab file. The filename of any tab files that contain filtered data will be saved so that in the future if we need to re-do this process we can focus on the files that contain relevant data."
   ]
  },
  {
   "cell_type": "code",
   "execution_count": 4,
   "id": "32738b77-32ea-4e97-af35-f194d7c566d4",
   "metadata": {},
   "outputs": [],
   "source": [
    "tmp = dt.txt_to_list(ZIP_URLS_FILE)"
   ]
  },
  {
   "cell_type": "code",
   "execution_count": 5,
   "id": "95a7d1f6-bf14-4bd3-9310-932e73ebc0cb",
   "metadata": {},
   "outputs": [
    {
     "data": {
      "text/plain": [
       "['https://pds-geosciences.wustl.edu/lro/lro-l-dlre-4-rdr-v1/lrodlr_1001/data/2010/201001/20100101/201001010000_rdr.zip',\n",
       " 'https://pds-geosciences.wustl.edu/lro/lro-l-dlre-4-rdr-v1/lrodlr_1001/data/2010/201001/20100101/201001010010_rdr.zip',\n",
       " 'https://pds-geosciences.wustl.edu/lro/lro-l-dlre-4-rdr-v1/lrodlr_1001/data/2010/201001/20100101/201001010020_rdr.zip',\n",
       " 'https://pds-geosciences.wustl.edu/lro/lro-l-dlre-4-rdr-v1/lrodlr_1001/data/2010/201001/20100101/201001010030_rdr.zip',\n",
       " 'https://pds-geosciences.wustl.edu/lro/lro-l-dlre-4-rdr-v1/lrodlr_1001/data/2010/201001/20100101/201001010040_rdr.zip',\n",
       " 'https://pds-geosciences.wustl.edu/lro/lro-l-dlre-4-rdr-v1/lrodlr_1001/data/2010/201001/20100101/201001010050_rdr.zip',\n",
       " 'https://pds-geosciences.wustl.edu/lro/lro-l-dlre-4-rdr-v1/lrodlr_1001/data/2010/201001/20100101/201001010100_rdr.zip',\n",
       " 'https://pds-geosciences.wustl.edu/lro/lro-l-dlre-4-rdr-v1/lrodlr_1001/data/2010/201001/20100101/201001010110_rdr.zip',\n",
       " 'https://pds-geosciences.wustl.edu/lro/lro-l-dlre-4-rdr-v1/lrodlr_1001/data/2010/201001/20100101/201001010120_rdr.zip',\n",
       " 'https://pds-geosciences.wustl.edu/lro/lro-l-dlre-4-rdr-v1/lrodlr_1001/data/2010/201001/20100101/201001010130_rdr.zip']"
      ]
     },
     "execution_count": 5,
     "metadata": {},
     "output_type": "execute_result"
    }
   ],
   "source": [
    "tmp[0:10]"
   ]
  },
  {
   "cell_type": "markdown",
   "id": "7658bbc2-b7fe-402b-bd27-333d36b33e4e",
   "metadata": {},
   "source": [
    "## Scratch Code"
   ]
  },
  {
   "cell_type": "code",
   "execution_count": null,
   "id": "8c043d5c-dca9-49c4-9998-1dd3f5d2edfc",
   "metadata": {},
   "outputs": [],
   "source": [
    "lines = tab_to_lines('/esthar/diviner_data/201001010000_RDR.TAB')"
   ]
  },
  {
   "cell_type": "code",
   "execution_count": null,
   "id": "9e150823-0366-4eab-a2b0-a1213553c084",
   "metadata": {},
   "outputs": [],
   "source": [
    "print(len(lines))"
   ]
  },
  {
   "cell_type": "code",
   "execution_count": null,
   "id": "368c6a14-1b4c-490d-aab6-c0d177a72e1a",
   "metadata": {},
   "outputs": [],
   "source": [
    "count = 0  \n",
    "\n",
    "for line in lines:\n",
    "    count += insert_into_database(DB_FILEPATH, line)\n",
    "\n",
    "print(repr(count) + \" lines added to database\")"
   ]
  },
  {
   "cell_type": "code",
   "execution_count": null,
   "id": "1afb1d2f-c357-4c31-b914-105fd35ea411",
   "metadata": {},
   "outputs": [],
   "source": [
    "lines = tab_to_lines('/esthar/diviner_data/201001010010_RDR.TAB')"
   ]
  },
  {
   "cell_type": "code",
   "execution_count": null,
   "id": "270567b3-e70c-4e1e-a48c-4ab160aac307",
   "metadata": {},
   "outputs": [],
   "source": [
    "print(len(lines))"
   ]
  },
  {
   "cell_type": "code",
   "execution_count": null,
   "id": "228d179e-d3bc-4605-ba88-6dfc0c260148",
   "metadata": {},
   "outputs": [],
   "source": [
    "count = 0  \n",
    "\n",
    "for line in lines:\n",
    "    count += insert_into_database(DB_FILEPATH, line)\n",
    "\n",
    "print(repr(count) + \" lines added to database\")"
   ]
  },
  {
   "cell_type": "markdown",
   "id": "1a45db03-8670-45a3-b46f-399049358efd",
   "metadata": {},
   "source": [
    "## 2010"
   ]
  },
  {
   "cell_type": "markdown",
   "id": "43a672c6-4d52-4aca-99e1-6921bb31871c",
   "metadata": {},
   "source": [
    "First, find all the .zip file urls for the year 2010"
   ]
  },
  {
   "cell_type": "code",
   "execution_count": null,
   "id": "75868779-2471-40ea-bdaf-3dd032845339",
   "metadata": {},
   "outputs": [],
   "source": [
    "zip_urls = find_all_zip_urls('2010')\n",
    "\n",
    "print(\"Found \" + repr(len(zip_urls)) + \" .zip file urls\")"
   ]
  },
  {
   "cell_type": "code",
   "execution_count": null,
   "id": "e7f97950-2256-4eb6-bd7a-10db4ac7dec4",
   "metadata": {},
   "outputs": [],
   "source": [
    "append_to_file(ZIP_URLS_FILE, zip_urls)"
   ]
  },
  {
   "cell_type": "markdown",
   "id": "48454b70-9cac-4309-b580-a700ccc3f7ce",
   "metadata": {},
   "source": [
    "Download the zip files, unpack the .TAB file, and then delete the original zip file. Note that, each .TAB file seems to be about 289M. If we downloaded all 51,483 .TAB files from 2010 alone, that would require just over 14TB of storage. "
   ]
  },
  {
   "cell_type": "code",
   "execution_count": null,
   "id": "2bbda0f5-bc4e-408b-9485-aa2e319d2538",
   "metadata": {},
   "outputs": [],
   "source": [
    "download_unpack_delete(DATA_DIR, zip_urls[1])"
   ]
  },
  {
   "cell_type": "markdown",
   "id": "f55a55b9-4aa5-4ff4-ab64-a828850fae22",
   "metadata": {},
   "source": [
    "Insert the .TAB data into the local database, then delete the original .TAB file"
   ]
  },
  {
   "cell_type": "code",
   "execution_count": null,
   "id": "196ecd23-b214-4e6e-b3f9-061f902331fc",
   "metadata": {},
   "outputs": [],
   "source": [
    "# TBD"
   ]
  },
  {
   "cell_type": "markdown",
   "id": "405592c5-27ca-4a4f-8e82-d5406ed847d4",
   "metadata": {},
   "source": [
    "Delete data points that don't meet the parameter criteriae."
   ]
  },
  {
   "cell_type": "code",
   "execution_count": null,
   "id": "4890949d-eb35-435a-8e2f-ee5e64cfa415",
   "metadata": {},
   "outputs": [],
   "source": [
    "# TBD"
   ]
  },
  {
   "cell_type": "code",
   "execution_count": null,
   "id": "8f85f864-0ea5-4e7c-a340-bbde38fe20c7",
   "metadata": {},
   "outputs": [],
   "source": []
  }
 ],
 "metadata": {
  "kernelspec": {
   "display_name": "Python 3 (ipykernel)",
   "language": "python",
   "name": "python3"
  },
  "language_info": {
   "codemirror_mode": {
    "name": "ipython",
    "version": 3
   },
   "file_extension": ".py",
   "mimetype": "text/x-python",
   "name": "python",
   "nbconvert_exporter": "python",
   "pygments_lexer": "ipython3",
   "version": "3.8.10"
  }
 },
 "nbformat": 4,
 "nbformat_minor": 5
}
