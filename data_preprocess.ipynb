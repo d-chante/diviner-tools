{
 "cells": [
  {
   "cell_type": "markdown",
   "id": "4ec81aa2-986f-487c-82de-d26f6a83df90",
   "metadata": {},
   "source": [
    "# Data Preprocess\n",
    "\n",
    "This Notebook instance provides a procedure to pre-process channel 7 Diviner data collected between January 2010 - September 2023 as part of a goal to replicate the work published in [Unsupervised Learning for Thermophysical Analysis on the Lunar Surface](https://iopscience.iop.org/article/10.3847/PSJ/ab9a52) by Moseley et al. (2020).\n",
    "\n",
    "A particular objective of this pre-processing notebook is to use only a standard computer (CPU, multi-threading) with augmented storage space (~5TB)."
   ]
  },
  {
   "cell_type": "markdown",
   "id": "8bc9d652-7b25-4fc4-8a04-2b6dafb0116d",
   "metadata": {},
   "source": [
    "## Import Required Libraries"
   ]
  },
  {
   "cell_type": "code",
   "execution_count": null,
   "id": "57a07d66-c24c-45df-a95d-e54e205a74f4",
   "metadata": {},
   "outputs": [],
   "source": [
    "from diviner_tools import DivinerTools"
   ]
  },
  {
   "cell_type": "markdown",
   "id": "0d50a6a8-d81a-4ec8-bcc3-8bf9303eb9b5",
   "metadata": {},
   "source": [
    "## Constants"
   ]
  },
  {
   "cell_type": "code",
   "execution_count": null,
   "id": "397672c7-737d-40a5-87cf-08855090e680",
   "metadata": {},
   "outputs": [],
   "source": [
    "# Pathway to config file\n",
    "CFG_FILEPATH = \"/Notebooks/Moseley/diviner-tools/support/config/cfg.yaml\"\n",
    "\n",
    "# Pathway to pre-collected zip file URLs list\n",
    "ZIP_FILEPATH = \"/esthar/diviner_data/txt_files/zip_urls.txt\""
   ]
  },
  {
   "cell_type": "markdown",
   "id": "0ea59d42-d1dd-4e0f-ad5a-6c66d77f7569",
   "metadata": {},
   "source": [
    "## Init Diviner Tools\n",
    "\n",
    "diviner_tools is a custom library developed specifically for this task. Upon initialization of the Diviner Tools object, it will create the data directory and database if they don't already exist."
   ]
  },
  {
   "cell_type": "code",
   "execution_count": null,
   "id": "f6a28e4c-abd5-4a9e-9d20-67218c965873",
   "metadata": {},
   "outputs": [],
   "source": [
    "dt = DivinerTools(CFG_FILEPATH)"
   ]
  },
  {
   "cell_type": "markdown",
   "id": "ef546826-3ab3-4c4d-bf6f-ea1941ec4070",
   "metadata": {},
   "source": [
    "## Preprocess\n",
    "\n",
    "Preprocessing will involve:\n",
    "* Splitting the zip file URLs into batches\n",
    "* For each url, download the .zip file to local directory\n",
    "* Unpack the .zip file\n",
    "* Read the lines from the unpacked .TAB file\n",
    "* Check each line against desired criteria (activity flag, geoemetry flag, etc)\n",
    "* If a line meets the desired criteria, write it to our database\n",
    "* If a .TAB file contains data that was written to the database, save the filename to a textfile\n",
    "* Delete the .TAB file\n",
    "\n",
    "Since there is a lot of data to process which may take a long period of time, we will split the 717,509 URLs into parent batches of 100,000 each and will manually start each 100,000 master batch. "
   ]
  },
  {
   "cell_type": "code",
   "execution_count": null,
   "id": "32738b77-32ea-4e97-af35-f194d7c566d4",
   "metadata": {},
   "outputs": [],
   "source": [
    "all_urls = dt.txt_to_list(ZIP_FILEPATH)"
   ]
  },
  {
   "cell_type": "code",
   "execution_count": null,
   "id": "f6981855-c545-4bec-9eb2-8edde66eaf9d",
   "metadata": {},
   "outputs": [],
   "source": [
    "# Master batches\n",
    "master_batches = dt.batch(all_urls, 100000)"
   ]
  },
  {
   "cell_type": "markdown",
   "id": "5ff7e294-d1dc-4966-99b6-bbca995b65d3",
   "metadata": {},
   "source": [
    "### Preprocessing Loop\n",
    "\n",
    "We will start each branch manually. This could be automated, but doing this piece by piece helps mitigate risks with something interrupting a batch. The database will be backed up manually between master batch sessions."
   ]
  },
  {
   "cell_type": "code",
   "execution_count": null,
   "id": "234e0665-af33-46b7-9eac-6554db2255b4",
   "metadata": {},
   "outputs": [],
   "source": [
    "dt.preprocess(master_batches[0])\n",
    "dt.preprocess(master_batches[1])\n",
    "dt.preprocess(master_batches[2])\n",
    "dt.preprocess(master_batches[3])\n",
    "dt.preprocess(master_batches[4])\n",
    "dt.preprocess(master_batches[5])\n",
    "dt.preprocess(master_batches[6])\n",
    "dt.preprocess(master_batches[7])"
   ]
  },
  {
   "cell_type": "code",
   "execution_count": null,
   "id": "79cedf9e-9db5-43ec-a11a-7052fc832c11",
   "metadata": {},
   "outputs": [],
   "source": []
  }
 ],
 "metadata": {
  "kernelspec": {
   "display_name": "Python 3 (ipykernel)",
   "language": "python",
   "name": "python3"
  },
  "language_info": {
   "codemirror_mode": {
    "name": "ipython",
    "version": 3
   },
   "file_extension": ".py",
   "mimetype": "text/x-python",
   "name": "python",
   "nbconvert_exporter": "python",
   "pygments_lexer": "ipython3",
   "version": "3.8.10"
  }
 },
 "nbformat": 4,
 "nbformat_minor": 5
}
